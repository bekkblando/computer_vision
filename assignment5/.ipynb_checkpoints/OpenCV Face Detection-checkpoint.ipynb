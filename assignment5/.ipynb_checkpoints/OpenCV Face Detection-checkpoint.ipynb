{
 "cells": [
  {
   "cell_type": "code",
   "execution_count": 1,
   "metadata": {},
   "outputs": [],
   "source": [
    "import cv2\n",
    "import math"
   ]
  },
  {
   "cell_type": "code",
   "execution_count": 2,
   "metadata": {},
   "outputs": [
    {
     "data": {
      "text/plain": [
       "'/Users/bekkblando/.local/share/virtualenvs/assignment5-mQdkBZfd/lib/python3.7/site-packages/cv2/data/'"
      ]
     },
     "execution_count": 2,
     "metadata": {},
     "output_type": "execute_result"
    }
   ],
   "source": [
    "cv2.data.haarcascades"
   ]
  },
  {
   "cell_type": "code",
   "execution_count": 11,
   "metadata": {},
   "outputs": [],
   "source": [
    "class Face():\n",
    "    \n",
    "    def __init__(self):\n",
    "        self.left_eye_cascade = cv2.CascadeClassifier(f'{cv2.data.haarcascades}/haarcascade_lefteye_2splits.xml')\n",
    "        self.right_eye_cascade = cv2.CascadeClassifier(f'{cv2.data.haarcascades}/haarcascade_righteye_2splits.xml')\n",
    "\n",
    "        if cv2.__version__ == '4.0.0' or cv2.__version__ == '4.2.0':\n",
    "            self.noseCascadeName = './classifiers/haarcascade_mcs_nose.xml'\n",
    "        elif cv2.__version__ == '3.4.1':\n",
    "            self.noseCascadeName = '/Nariz.xml'\n",
    "\n",
    "        if cv2.__version__ == '4.0.0' or cv2.__version__ == '4.2.0':\n",
    "            self.mouthCascadeName = '/haarcascade_smile.xml'\n",
    "        elif cv2.__version__ == '3.4.1':\n",
    "            self.mouthCascadeName = '/Mouth.xml'\n",
    "            \n",
    "        self.nose_cascade = cv2.CascadeClassifier(self.noseCascadeName)\n",
    "        self.mouth_cascade = cv2.CascadeClassifier(cv2.data.haarcascades + self.mouthCascadeName)\n",
    "        \n",
    "    def get_left_eyes(self, frame):\n",
    "        return self.left_eye_cascade.detectMultiScale(frame, 1.1, minNeighbors=35)\n",
    "    \n",
    "    def get_right_eyes(self, frame):\n",
    "        return self.right_eye_cascade.detectMultiScale(frame, 1.1, minNeighbors=35)\n",
    "    \n",
    "    def get_mouths(self, frame):\n",
    "        return self.mouth_cascade.detectMultiScale(frame, 1.1, minNeighbors=35, minSize=(25, 25))\n",
    "    \n",
    "    def get_noses(self, frame):\n",
    "        return self.nose_cascade.detectMultiScale(frame, 1.1, minNeighbors=35)\n",
    "    \n",
    "    def draw(self, frame):\n",
    "        self.draw_cascades(self.get_left_eyes(filtered_grey), color, \"Left Eye\")\n",
    "        # Draw a rectangle around the left eyes\n",
    "\n",
    "\n",
    "        # Draw a rectangle around the right eyes\n",
    "        self.draw_cascades(self.get_right_eyes(filtered_grey), color, \"Right Eye\")\n",
    "\n",
    "\n",
    "        # Draw a rectangle around the mouth\n",
    "        self.draw_cascades(self.get_mouths(filtered_grey), color, \"Mouth\")\n",
    "\n",
    "\n",
    "        # Draw a rectangle around the nose\n",
    "        self.draw_cascades(self.get_noses(filtered_grey), color, \"Nose\")\n",
    "\n",
    "\n",
    "class Faces():\n",
    "    \n",
    "    def __init__(self):\n",
    "        self.face_cascade = cv2.CascadeClassifier('classifiers/frontalFace10/haarcascade_frontalface_alt2.xml')\n",
    "        self.faces = []\n",
    "\n",
    "        \n",
    "    def draw_cascades(self, items, frame, label):\n",
    "        for index, (x,y,w,h) in enumerate(items):\n",
    "            cv2.rectangle(frame,(x, y),(x + w, y + h),(0,255,0),2)\n",
    "            cv2.putText(frame,f'{label} {index}',(x + x, y + y), 1, 1, (0, 255, 0), 1)\n",
    "          \n",
    "    def in_face(self, obj):\n",
    "        for (x,y,w,h) in self.faces:\n",
    "            if(obj[0] >= x and obj[1] >= y):\n",
    "                return True\n",
    "        return False\n",
    "    \n",
    "    def remove_not_in_face(self, objs):\n",
    "        return list(filter(self.in_face, objs))\n",
    "    \n",
    "    \n",
    "    def get_faces(self, frame):\n",
    "        return self.face_cascade.detectMultiScale(frame, 1.1)\n",
    "    \n",
    "    \n",
    "    def get_distance(self, x1, y1, x2, y2):\n",
    "        return math.sqrt((x1 - x2)**2 + (y1 - y2)**2)\n",
    "    \n",
    "    \n",
    "    def read_clean_view(self, gray, frame):\n",
    "        self.same_for = 100\n",
    "        \n",
    "        # Get those rectangles around those faces\n",
    "        faces = self.get_faces(gray)\n",
    "#         for new_face in faces:\n",
    "#             for face in self.faces:\n",
    "                \n",
    "        \n",
    "        self.draw_cascades(self.faces, frame, \"Face\")\n",
    "        filtered_grey = gray[y: y + h, x: x + w]\n",
    "        color = frame[y: y + h, x: x + w]\n",
    "        \n",
    "        for (x, y, w, h) in self.faces:\n",
    "            \n",
    "\n",
    "\n",
    "    \n",
    "face = Faces()     "
   ]
  },
  {
   "cell_type": "code",
   "execution_count": 4,
   "metadata": {},
   "outputs": [],
   "source": [
    "cap = cv2.VideoCapture(0)"
   ]
  },
  {
   "cell_type": "code",
   "execution_count": 6,
   "metadata": {
    "scrolled": true
   },
   "outputs": [
    {
     "name": "stdout",
     "output_type": "stream",
     "text": [
      "1280\n",
      "1280\n",
      "1280\n",
      "1280\n",
      "1280\n",
      "1280\n",
      "1280\n",
      "1280\n",
      "1280\n",
      "1280\n",
      "1280\n",
      "1280\n",
      "1280\n",
      "1280\n",
      "1280\n",
      "1280\n",
      "1280\n",
      "1280\n",
      "1280\n",
      "1280\n",
      "1280\n",
      "1280\n",
      "1280\n",
      "1280\n",
      "1280\n",
      "1280\n",
      "1280\n",
      "1280\n",
      "1280\n",
      "1280\n",
      "1280\n"
     ]
    },
    {
     "ename": "KeyboardInterrupt",
     "evalue": "",
     "output_type": "error",
     "traceback": [
      "\u001b[0;31m---------------------------------------------------------------------------\u001b[0m",
      "\u001b[0;31mKeyboardInterrupt\u001b[0m                         Traceback (most recent call last)",
      "\u001b[0;32m<ipython-input-6-dd6a37ce1bb1>\u001b[0m in \u001b[0;36m<module>\u001b[0;34m\u001b[0m\n\u001b[1;32m     11\u001b[0m     \u001b[0;31m# Display Frame\u001b[0m\u001b[0;34m\u001b[0m\u001b[0;34m\u001b[0m\u001b[0;34m\u001b[0m\u001b[0m\n\u001b[1;32m     12\u001b[0m     \u001b[0mcv2\u001b[0m\u001b[0;34m.\u001b[0m\u001b[0mimshow\u001b[0m\u001b[0;34m(\u001b[0m\u001b[0;34m'frame'\u001b[0m\u001b[0;34m,\u001b[0m \u001b[0mframe\u001b[0m\u001b[0;34m)\u001b[0m\u001b[0;34m\u001b[0m\u001b[0;34m\u001b[0m\u001b[0m\n\u001b[0;32m---> 13\u001b[0;31m     \u001b[0;32mif\u001b[0m \u001b[0mcv2\u001b[0m\u001b[0;34m.\u001b[0m\u001b[0mwaitKey\u001b[0m\u001b[0;34m(\u001b[0m\u001b[0;36m1\u001b[0m\u001b[0;34m)\u001b[0m \u001b[0;34m==\u001b[0m \u001b[0mord\u001b[0m\u001b[0;34m(\u001b[0m\u001b[0;34m'q'\u001b[0m\u001b[0;34m)\u001b[0m\u001b[0;34m:\u001b[0m\u001b[0;34m\u001b[0m\u001b[0;34m\u001b[0m\u001b[0m\n\u001b[0m\u001b[1;32m     14\u001b[0m         \u001b[0;32mbreak\u001b[0m\u001b[0;34m\u001b[0m\u001b[0;34m\u001b[0m\u001b[0m\n",
      "\u001b[0;31mKeyboardInterrupt\u001b[0m: "
     ]
    }
   ],
   "source": [
    "while cap.isOpened():\n",
    "    ret, frame = cap.read()\n",
    "    if not ret:\n",
    "        print(\"Can't receive frame (stream end?). Exiting ...\")\n",
    "        break\n",
    "    gray = cv2.cvtColor(frame, cv2.COLOR_BGR2GRAY)\n",
    "\n",
    "    # Draw a rectangle around the faces\n",
    "    # face.read_clean_view(gray, frame)\n",
    "    print(len(frame[0]))\n",
    "    # Display Frame\n",
    "    cv2.imshow('frame', frame)\n",
    "    if cv2.waitKey(1) == ord('q'):\n",
    "        break"
   ]
  },
  {
   "cell_type": "code",
   "execution_count": 14,
   "metadata": {},
   "outputs": [],
   "source": [
    "cap.release()\n",
    "cv2.destroyAllWindows()"
   ]
  },
  {
   "cell_type": "code",
   "execution_count": null,
   "metadata": {},
   "outputs": [],
   "source": []
  }
 ],
 "metadata": {
  "kernelspec": {
   "display_name": "Python 3",
   "language": "python",
   "name": "python3"
  },
  "language_info": {
   "codemirror_mode": {
    "name": "ipython",
    "version": 3
   },
   "file_extension": ".py",
   "mimetype": "text/x-python",
   "name": "python",
   "nbconvert_exporter": "python",
   "pygments_lexer": "ipython3",
   "version": "3.7.6"
  }
 },
 "nbformat": 4,
 "nbformat_minor": 4
}
