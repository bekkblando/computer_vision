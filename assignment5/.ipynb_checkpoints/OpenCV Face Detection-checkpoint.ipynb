{
 "cells": [
  {
   "cell_type": "code",
   "execution_count": 75,
   "metadata": {},
   "outputs": [],
   "source": [
    "import cv2\n",
    "import math\n",
    "import time"
   ]
  },
  {
   "cell_type": "code",
   "execution_count": 76,
   "metadata": {},
   "outputs": [
    {
     "data": {
      "text/plain": [
       "'/Users/bekkblando/.local/share/virtualenvs/assignment5-mQdkBZfd/lib/python3.7/site-packages/cv2/data/'"
      ]
     },
     "execution_count": 76,
     "metadata": {},
     "output_type": "execute_result"
    }
   ],
   "source": [
    "cv2.data.haarcascades"
   ]
  },
  {
   "cell_type": "code",
   "execution_count": 137,
   "metadata": {},
   "outputs": [],
   "source": [
    "class Face():\n",
    "    \n",
    "    def __init__(self, rect, gray, index):\n",
    "        self.left_eye_cascade = cv2.CascadeClassifier(f'{cv2.data.haarcascades}/haarcascade_lefteye_2splits.xml')\n",
    "        self.right_eye_cascade = cv2.CascadeClassifier(f'{cv2.data.haarcascades}/haarcascade_righteye_2splits.xml')\n",
    "\n",
    "        if cv2.__version__ == '4.0.0' or cv2.__version__ == '4.2.0':\n",
    "            self.noseCascadeName = './classifiers/haarcascade_mcs_nose.xml'\n",
    "        elif cv2.__version__ == '3.4.1':\n",
    "            self.noseCascadeName = '/Nariz.xml'\n",
    "\n",
    "        if cv2.__version__ == '4.0.0' or cv2.__version__ == '4.2.0':\n",
    "            self.mouthCascadeName = '/haarcascade_smile.xml'\n",
    "        elif cv2.__version__ == '3.4.1':\n",
    "            self.mouthCascadeName = '/Mouth.xml'\n",
    "            \n",
    "        self.nose_cascade = cv2.CascadeClassifier(self.noseCascadeName)\n",
    "        self.mouth_cascade = cv2.CascadeClassifier(cv2.data.haarcascades + self.mouthCascadeName)\n",
    "        self.rect = rect\n",
    "        (x,y,w,h) = rect\n",
    "        self.frame = frame\n",
    "        self.filtered_grey = gray[y: y + h, x: x + w]\n",
    "        self.color = frame[y: y + h, x: x + w]\n",
    "        self.updated = time.time()\n",
    "        self.index = index\n",
    "        \n",
    "    def get_left_eyes(self):\n",
    "        return self.left_eye_cascade.detectMultiScale(self.filtered_grey, 1.1, minNeighbors=35)\n",
    "    \n",
    "    def get_right_eyes(self):\n",
    "        return self.right_eye_cascade.detectMultiScale(self.filtered_grey, 1.1, minNeighbors=35)\n",
    "    \n",
    "    def get_mouths(self):\n",
    "        return self.mouth_cascade.detectMultiScale(self.filtered_grey, 1.1, minNeighbors=35, minSize=(25, 25))\n",
    "    \n",
    "    def get_noses(self):\n",
    "        return self.nose_cascade.detectMultiScale(self.filtered_grey, 1.1, minNeighbors=35)\n",
    "    \n",
    "    def update(self, rect, gray):\n",
    "        # Update Time\n",
    "        self.rect = rect\n",
    "        self.gray = gray\n",
    "        self.frame = frame\n",
    "        self.updated = time.time()\n",
    "\n",
    "    def draw_cascades(self, items, frame, label):\n",
    "        for (x,y,w,h) in items:\n",
    "            # Change the thickness of the line to give a fade effect\n",
    "            cv2.rectangle(frame,(x, y),(x + w, y + h),(0,255,0), math.floor(3 - self.decay()))\n",
    "            cv2.putText(frame,f'{label}',(x + x, y + y), 1, 1, (0, 255, 0), 1)\n",
    "\n",
    "    def decay(self):\n",
    "        return time.time() - self.updated\n",
    "    \n",
    "    def draw(self, frame):\n",
    "        self.frame = frame\n",
    "        (x,y,w,h) = self.rect\n",
    "        self.color = frame[y: y + h, x: x + w]\n",
    "        \n",
    "        # Draw Face\n",
    "        self.draw_cascades([self.rect], frame, f'Face {self.index}')\n",
    "        \n",
    "        # Draw a rectangle around the left eyes\n",
    "        self.draw_cascades(self.get_left_eyes(), self.color, \"Left Eye\")\n",
    "\n",
    "\n",
    "        # Draw a rectangle around the right eyes\n",
    "        self.draw_cascades(self.get_right_eyes(), self.color, \"Right Eye\")\n",
    "\n",
    "\n",
    "        # Draw a rectangle around the mouth\n",
    "        self.draw_cascades(self.get_mouths(), self.color, \"Mouth\")\n",
    "\n",
    "\n",
    "        # Draw a rectangle around the nose\n",
    "        self.draw_cascades(self.get_noses(), self.color, \"Nose\")\n",
    "\n",
    "\n",
    "class Faces():\n",
    "    \n",
    "    def __init__(self):\n",
    "        self.face_cascade = cv2.CascadeClassifier('classifiers/frontalFace10/haarcascade_frontalface_alt2.xml')\n",
    "        self.faces = []\n",
    "    \n",
    "    \n",
    "    def get_faces(self, frame):\n",
    "        return self.face_cascade.detectMultiScale(frame, 1.1)\n",
    "    \n",
    "    \n",
    "    def get_distance(self, x1, y1, x2, y2):\n",
    "        return math.sqrt((x1 - x2)**2 + (y1 - y2)**2)\n",
    "    \n",
    "    \n",
    "    def read_clean_view(self, gray, frame):\n",
    "        self.same_for = 300\n",
    "        self.decayed = 3\n",
    "        \n",
    "        # Get those rectangles around those faces\n",
    "        \n",
    "        faces = self.get_faces(gray)\n",
    "        self.faces = list(filter(lambda face: face.decay() < self.decayed, self.faces))\n",
    "                \n",
    "        # Find the same faces\n",
    "        for new_face in faces:\n",
    "            new = True\n",
    "            for face in self.faces:\n",
    "                # If the same face update\n",
    "                if(self.get_distance(new_face[0], new_face[1], face.rect[0], face.rect[1]) < self.same_for):\n",
    "                    face.update(new_face, gray)\n",
    "                    new = False\n",
    "                    \n",
    "            if(new):\n",
    "                face = Face(new_face, gray, len(self.faces))\n",
    "                self.faces.append(face)\n",
    "                face.draw(frame)\n",
    "        \n",
    "        for face in self.faces:\n",
    "            face.draw(frame)\n",
    "                \n",
    "face = Faces()     "
   ]
  },
  {
   "cell_type": "code",
   "execution_count": 138,
   "metadata": {},
   "outputs": [],
   "source": [
    "cap = cv2.VideoCapture(0)"
   ]
  },
  {
   "cell_type": "code",
   "execution_count": 139,
   "metadata": {
    "scrolled": true
   },
   "outputs": [
    {
     "ename": "KeyboardInterrupt",
     "evalue": "",
     "output_type": "error",
     "traceback": [
      "\u001b[0;31m---------------------------------------------------------------------------\u001b[0m",
      "\u001b[0;31mKeyboardInterrupt\u001b[0m                         Traceback (most recent call last)",
      "\u001b[0;32m<ipython-input-139-43abf0c156d4>\u001b[0m in \u001b[0;36m<module>\u001b[0;34m\u001b[0m\n\u001b[1;32m      7\u001b[0m \u001b[0;34m\u001b[0m\u001b[0m\n\u001b[1;32m      8\u001b[0m     \u001b[0;31m# Draw a rectangle around the faces\u001b[0m\u001b[0;34m\u001b[0m\u001b[0;34m\u001b[0m\u001b[0;34m\u001b[0m\u001b[0m\n\u001b[0;32m----> 9\u001b[0;31m     \u001b[0mface\u001b[0m\u001b[0;34m.\u001b[0m\u001b[0mread_clean_view\u001b[0m\u001b[0;34m(\u001b[0m\u001b[0mgray\u001b[0m\u001b[0;34m,\u001b[0m \u001b[0mframe\u001b[0m\u001b[0;34m)\u001b[0m\u001b[0;34m\u001b[0m\u001b[0;34m\u001b[0m\u001b[0m\n\u001b[0m\u001b[1;32m     10\u001b[0m     \u001b[0;31m# Display Frame\u001b[0m\u001b[0;34m\u001b[0m\u001b[0;34m\u001b[0m\u001b[0;34m\u001b[0m\u001b[0m\n\u001b[1;32m     11\u001b[0m     \u001b[0mcv2\u001b[0m\u001b[0;34m.\u001b[0m\u001b[0mimshow\u001b[0m\u001b[0;34m(\u001b[0m\u001b[0;34m'frame'\u001b[0m\u001b[0;34m,\u001b[0m \u001b[0mframe\u001b[0m\u001b[0;34m)\u001b[0m\u001b[0;34m\u001b[0m\u001b[0;34m\u001b[0m\u001b[0m\n",
      "\u001b[0;32m<ipython-input-137-473b508cde06>\u001b[0m in \u001b[0;36mread_clean_view\u001b[0;34m(self, gray, frame)\u001b[0m\n\u001b[1;32m    115\u001b[0m \u001b[0;34m\u001b[0m\u001b[0m\n\u001b[1;32m    116\u001b[0m         \u001b[0;32mfor\u001b[0m \u001b[0mface\u001b[0m \u001b[0;32min\u001b[0m \u001b[0mself\u001b[0m\u001b[0;34m.\u001b[0m\u001b[0mfaces\u001b[0m\u001b[0;34m:\u001b[0m\u001b[0;34m\u001b[0m\u001b[0;34m\u001b[0m\u001b[0m\n\u001b[0;32m--> 117\u001b[0;31m             \u001b[0mface\u001b[0m\u001b[0;34m.\u001b[0m\u001b[0mdraw\u001b[0m\u001b[0;34m(\u001b[0m\u001b[0mframe\u001b[0m\u001b[0;34m)\u001b[0m\u001b[0;34m\u001b[0m\u001b[0;34m\u001b[0m\u001b[0m\n\u001b[0m\u001b[1;32m    118\u001b[0m \u001b[0;34m\u001b[0m\u001b[0m\n\u001b[1;32m    119\u001b[0m \u001b[0mface\u001b[0m \u001b[0;34m=\u001b[0m \u001b[0mFaces\u001b[0m\u001b[0;34m(\u001b[0m\u001b[0;34m)\u001b[0m\u001b[0;34m\u001b[0m\u001b[0;34m\u001b[0m\u001b[0m\n",
      "\u001b[0;32m<ipython-input-137-473b508cde06>\u001b[0m in \u001b[0;36mdraw\u001b[0;34m(self, frame)\u001b[0m\n\u001b[1;32m     65\u001b[0m \u001b[0;34m\u001b[0m\u001b[0m\n\u001b[1;32m     66\u001b[0m         \u001b[0;31m# Draw a rectangle around the right eyes\u001b[0m\u001b[0;34m\u001b[0m\u001b[0;34m\u001b[0m\u001b[0;34m\u001b[0m\u001b[0m\n\u001b[0;32m---> 67\u001b[0;31m         \u001b[0mself\u001b[0m\u001b[0;34m.\u001b[0m\u001b[0mdraw_cascades\u001b[0m\u001b[0;34m(\u001b[0m\u001b[0mself\u001b[0m\u001b[0;34m.\u001b[0m\u001b[0mget_right_eyes\u001b[0m\u001b[0;34m(\u001b[0m\u001b[0;34m)\u001b[0m\u001b[0;34m,\u001b[0m \u001b[0mself\u001b[0m\u001b[0;34m.\u001b[0m\u001b[0mcolor\u001b[0m\u001b[0;34m,\u001b[0m \u001b[0;34m\"Right Eye\"\u001b[0m\u001b[0;34m)\u001b[0m\u001b[0;34m\u001b[0m\u001b[0;34m\u001b[0m\u001b[0m\n\u001b[0m\u001b[1;32m     68\u001b[0m \u001b[0;34m\u001b[0m\u001b[0m\n\u001b[1;32m     69\u001b[0m \u001b[0;34m\u001b[0m\u001b[0m\n",
      "\u001b[0;32m<ipython-input-137-473b508cde06>\u001b[0m in \u001b[0;36mget_right_eyes\u001b[0;34m(self)\u001b[0m\n\u001b[1;32m     29\u001b[0m \u001b[0;34m\u001b[0m\u001b[0m\n\u001b[1;32m     30\u001b[0m     \u001b[0;32mdef\u001b[0m \u001b[0mget_right_eyes\u001b[0m\u001b[0;34m(\u001b[0m\u001b[0mself\u001b[0m\u001b[0;34m)\u001b[0m\u001b[0;34m:\u001b[0m\u001b[0;34m\u001b[0m\u001b[0;34m\u001b[0m\u001b[0m\n\u001b[0;32m---> 31\u001b[0;31m         \u001b[0;32mreturn\u001b[0m \u001b[0mself\u001b[0m\u001b[0;34m.\u001b[0m\u001b[0mright_eye_cascade\u001b[0m\u001b[0;34m.\u001b[0m\u001b[0mdetectMultiScale\u001b[0m\u001b[0;34m(\u001b[0m\u001b[0mself\u001b[0m\u001b[0;34m.\u001b[0m\u001b[0mfiltered_grey\u001b[0m\u001b[0;34m,\u001b[0m \u001b[0;36m1.1\u001b[0m\u001b[0;34m,\u001b[0m \u001b[0mminNeighbors\u001b[0m\u001b[0;34m=\u001b[0m\u001b[0;36m35\u001b[0m\u001b[0;34m)\u001b[0m\u001b[0;34m\u001b[0m\u001b[0;34m\u001b[0m\u001b[0m\n\u001b[0m\u001b[1;32m     32\u001b[0m \u001b[0;34m\u001b[0m\u001b[0m\n\u001b[1;32m     33\u001b[0m     \u001b[0;32mdef\u001b[0m \u001b[0mget_mouths\u001b[0m\u001b[0;34m(\u001b[0m\u001b[0mself\u001b[0m\u001b[0;34m)\u001b[0m\u001b[0;34m:\u001b[0m\u001b[0;34m\u001b[0m\u001b[0;34m\u001b[0m\u001b[0m\n",
      "\u001b[0;31mKeyboardInterrupt\u001b[0m: "
     ]
    }
   ],
   "source": [
    "while cap.isOpened():\n",
    "    ret, frame = cap.read()\n",
    "    if not ret:\n",
    "        print(\"Can't receive frame (stream end?). Exiting ...\")\n",
    "        break\n",
    "    gray = cv2.cvtColor(frame, cv2.COLOR_BGR2GRAY)\n",
    "\n",
    "    # Draw a rectangle around the faces\n",
    "    face.read_clean_view(gray, frame)\n",
    "    # Display Frame\n",
    "    cv2.imshow('frame', frame)\n",
    "    if cv2.waitKey(1) == ord('q'):\n",
    "        break"
   ]
  },
  {
   "cell_type": "code",
   "execution_count": 140,
   "metadata": {},
   "outputs": [],
   "source": [
    "cap.release()\n",
    "cv2.destroyAllWindows()"
   ]
  },
  {
   "cell_type": "code",
   "execution_count": null,
   "metadata": {},
   "outputs": [],
   "source": []
  }
 ],
 "metadata": {
  "kernelspec": {
   "display_name": "Python 3",
   "language": "python",
   "name": "python3"
  },
  "language_info": {
   "codemirror_mode": {
    "name": "ipython",
    "version": 3
   },
   "file_extension": ".py",
   "mimetype": "text/x-python",
   "name": "python",
   "nbconvert_exporter": "python",
   "pygments_lexer": "ipython3",
   "version": "3.7.6"
  }
 },
 "nbformat": 4,
 "nbformat_minor": 4
}
