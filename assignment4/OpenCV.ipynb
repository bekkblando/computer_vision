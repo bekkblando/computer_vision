{
 "cells": [
  {
   "cell_type": "code",
   "execution_count": 1,
   "metadata": {},
   "outputs": [],
   "source": [
    "import cv2\n",
    "import numpy as np\n",
    "from PIL import Image\n",
    "import ffmpy"
   ]
  },
  {
   "cell_type": "code",
   "execution_count": 2,
   "metadata": {},
   "outputs": [],
   "source": [
    "import os\n",
    "\n",
    "# Pulled from https://stackoverflow.com/questions/22748617/python-avi-to-mp4, but I like f strings\n",
    "def convert_avi_to_mp4(avi_file_path, output_name):\n",
    "    print(os.run(f\"ffmpeg -i '/Users/bekkblando/Documents/github/computer_vision/assignment4/{avi_file_path}' -ac 2 -b:v 2000k -c:a aac -c:v libx264 -b:a 160k -vprofile high -bf 0 -strict experimental -f mp4 '/Users/bekkblando/Documents/github/computer_vision/assignment4/{output_name}'\"))\n",
    "    return True"
   ]
  },
  {
   "cell_type": "code",
   "execution_count": 16,
   "metadata": {},
   "outputs": [],
   "source": [
    "def transform_frame(frame):\n",
    "    return frame\n",
    "\n",
    "def get_frames(vid):\n",
    "    frames = []\n",
    "    counter = 0\n",
    "    while vid.isOpened():\n",
    "        ret, frame = vid.read()\n",
    "        if not ret:\n",
    "            print(\"Can't receive frame (stream end?). Exiting ...\")\n",
    "            break\n",
    "        # cv2.imshow('frame',frame)\n",
    "        frames.append(frame)\n",
    "    return frames"
   ]
  },
  {
   "cell_type": "code",
   "execution_count": 17,
   "metadata": {
    "scrolled": true
   },
   "outputs": [
    {
     "name": "stdout",
     "output_type": "stream",
     "text": [
      "Can't receive frame (stream end?). Exiting ...\n"
     ]
    },
    {
     "data": {
      "text/plain": [
       "(None, None)"
      ]
     },
     "execution_count": 17,
     "metadata": {},
     "output_type": "execute_result"
    }
   ],
   "source": [
    "vid = cv2.VideoCapture(\"/Users/bekkblando/Documents/github/computer_vision/assignment4/castlevania.mp4\")\n",
    "fourcc = cv2.VideoWriter_fourcc(*'XVID')\n",
    "output_file = \"out\"\n",
    "avi_file_name = f'/Users/bekkblando/Documents/github/computer_vision/assignment4/{output_file}.avi'\n",
    "w = vid.get(cv2.CAP_PROP_FRAME_WIDTH)\n",
    "h = vid.get(cv2.CAP_PROP_FRAME_HEIGHT)\n",
    "out = cv2.VideoWriter(avi_file_name, fourcc, 20.0, (int(w),int(h)))\n",
    "\n",
    "\n",
    "\n",
    "frames = get_frames(vid)\n",
    "\n",
    "for frame in frames:\n",
    "    out.write(frame)\n",
    "out.release()\n",
    "vid.release()\n",
    "cv2.destroyAllWindows()\n",
    "output_file_name = f'{output_file}.mp4'\n",
    "ff = ffmpy.FFmpeg(\n",
    "     inputs={avi_file_name: None},\n",
    "     outputs={output_file_name: None}\n",
    " )\n",
    "ff.run()"
   ]
  },
  {
   "cell_type": "code",
   "execution_count": null,
   "metadata": {},
   "outputs": [],
   "source": []
  },
  {
   "cell_type": "code",
   "execution_count": null,
   "metadata": {},
   "outputs": [],
   "source": [
    "import numpy as np\n",
    "import cv2 as cv\n",
    "cap = cv.VideoCapture(0)\n",
    "# Define the codec and create VideoWriter object\n",
    "fourcc = cv.VideoWriter_fourcc(*'XVID')\n",
    "out = cv.VideoWriter('output.avi', fourcc, 20.0, (640,  480))\n",
    "while cap.isOpened():\n",
    "    ret, frame = cap.read()\n",
    "    if not ret:\n",
    "        print(\"Can't receive frame (stream end?). Exiting ...\")\n",
    "        break\n",
    "    frame = cv.flip(frame, 0)\n",
    "    # write the flipped frame\n",
    "    # out.write(frame)\n",
    "    cv.imshow('frame', frame)\n",
    "    if cv.waitKey(1) == ord('q'):\n",
    "        break\n",
    "# Release everything if job is finished\n",
    "cap.release()\n",
    "out.release()\n",
    "cv.destroyAllWindows()"
   ]
  },
  {
   "cell_type": "code",
   "execution_count": null,
   "metadata": {},
   "outputs": [],
   "source": []
  }
 ],
 "metadata": {
  "kernelspec": {
   "display_name": "Python 3",
   "language": "python",
   "name": "python3"
  },
  "language_info": {
   "codemirror_mode": {
    "name": "ipython",
    "version": 3
   },
   "file_extension": ".py",
   "mimetype": "text/x-python",
   "name": "python",
   "nbconvert_exporter": "python",
   "pygments_lexer": "ipython3",
   "version": "3.7.4"
  }
 },
 "nbformat": 4,
 "nbformat_minor": 2
}
